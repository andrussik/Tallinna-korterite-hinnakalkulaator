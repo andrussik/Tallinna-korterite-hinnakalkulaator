{
 "cells": [
  {
   "cell_type": "code",
   "execution_count": 7,
   "metadata": {},
   "outputs": [],
   "source": [
    "import glob, os\n",
    "import pandas as pd\n",
    "import seaborn as sns\n",
    "import numpy as np\n",
    "import matplotlib.pyplot as plt\n",
    "%matplotlib inline"
   ]
  },
  {
   "cell_type": "code",
   "execution_count": 50,
   "metadata": {},
   "outputs": [],
   "source": [
    "path = '../data'\n",
    "all_files = glob.glob(os.path.join(path, \"kv_tallinn*.csv\")) \n",
    "df_from_each_file = (pd.read_csv(f, na_values='-') for f in all_files)\n",
    "df = pd.concat(df_from_each_file, ignore_index=True)"
   ]
  },
  {
   "cell_type": "code",
   "execution_count": 3,
   "metadata": {},
   "outputs": [],
   "source": [
    "# df = pd.read_csv('../data/kv_tallinn_2020-01-30.csv', na_values='-')"
   ]
  },
  {
   "cell_type": "code",
   "execution_count": 4,
   "metadata": {},
   "outputs": [
    {
     "data": {
      "text/html": [
       "<div>\n",
       "<style scoped>\n",
       "    .dataframe tbody tr th:only-of-type {\n",
       "        vertical-align: middle;\n",
       "    }\n",
       "\n",
       "    .dataframe tbody tr th {\n",
       "        vertical-align: top;\n",
       "    }\n",
       "\n",
       "    .dataframe thead th {\n",
       "        text-align: right;\n",
       "    }\n",
       "</style>\n",
       "<table border=\"1\" class=\"dataframe\">\n",
       "  <thead>\n",
       "    <tr style=\"text-align: right;\">\n",
       "      <th></th>\n",
       "      <th>street</th>\n",
       "      <th>district</th>\n",
       "      <th>rooms</th>\n",
       "      <th>area</th>\n",
       "      <th>price</th>\n",
       "      <th>price_m2</th>\n",
       "      <th>material</th>\n",
       "      <th>condition</th>\n",
       "      <th>year_built</th>\n",
       "      <th>age</th>\n",
       "      <th>floor</th>\n",
       "      <th>total_floors</th>\n",
       "    </tr>\n",
       "  </thead>\n",
       "  <tbody>\n",
       "    <tr>\n",
       "      <td>0</td>\n",
       "      <td>Mooni 60</td>\n",
       "      <td>Kristiine</td>\n",
       "      <td>3.0</td>\n",
       "      <td>59.1</td>\n",
       "      <td>82700</td>\n",
       "      <td>1399.0</td>\n",
       "      <td>NaN</td>\n",
       "      <td>vajab renoveerimist</td>\n",
       "      <td>1974.0</td>\n",
       "      <td>45.0</td>\n",
       "      <td>4.0</td>\n",
       "      <td>9.0</td>\n",
       "    </tr>\n",
       "    <tr>\n",
       "      <td>1</td>\n",
       "      <td>Sitsi 14a-4</td>\n",
       "      <td>Põhja-Tallinn</td>\n",
       "      <td>3.0</td>\n",
       "      <td>67.6</td>\n",
       "      <td>164240</td>\n",
       "      <td>2430.0</td>\n",
       "      <td>kivimaja</td>\n",
       "      <td>uus</td>\n",
       "      <td>2020.0</td>\n",
       "      <td>0.0</td>\n",
       "      <td>2.0</td>\n",
       "      <td>3.0</td>\n",
       "    </tr>\n",
       "    <tr>\n",
       "      <td>2</td>\n",
       "      <td>Räime tn 17</td>\n",
       "      <td>Haabersti</td>\n",
       "      <td>3.0</td>\n",
       "      <td>73.6</td>\n",
       "      <td>157500</td>\n",
       "      <td>2140.0</td>\n",
       "      <td>kivimaja</td>\n",
       "      <td>NaN</td>\n",
       "      <td>2007.0</td>\n",
       "      <td>12.0</td>\n",
       "      <td>2.0</td>\n",
       "      <td>4.0</td>\n",
       "    </tr>\n",
       "    <tr>\n",
       "      <td>3</td>\n",
       "      <td>Sitsi 14a-3</td>\n",
       "      <td>Põhja-Tallinn</td>\n",
       "      <td>3.0</td>\n",
       "      <td>55.7</td>\n",
       "      <td>144035</td>\n",
       "      <td>2586.0</td>\n",
       "      <td>kivimaja</td>\n",
       "      <td>uus</td>\n",
       "      <td>2020.0</td>\n",
       "      <td>0.0</td>\n",
       "      <td>2.0</td>\n",
       "      <td>3.0</td>\n",
       "    </tr>\n",
       "    <tr>\n",
       "      <td>4</td>\n",
       "      <td>Valge tn 10e-6</td>\n",
       "      <td>Lasnamäe</td>\n",
       "      <td>4.0</td>\n",
       "      <td>88.4</td>\n",
       "      <td>209900</td>\n",
       "      <td>2374.0</td>\n",
       "      <td>kivimaja</td>\n",
       "      <td>uus</td>\n",
       "      <td>2020.0</td>\n",
       "      <td>0.0</td>\n",
       "      <td>NaN</td>\n",
       "      <td>NaN</td>\n",
       "    </tr>\n",
       "  </tbody>\n",
       "</table>\n",
       "</div>"
      ],
      "text/plain": [
       "           street       district  rooms  area   price  price_m2  material  \\\n",
       "0        Mooni 60      Kristiine    3.0  59.1   82700    1399.0       NaN   \n",
       "1     Sitsi 14a-4  Põhja-Tallinn    3.0  67.6  164240    2430.0  kivimaja   \n",
       "2     Räime tn 17      Haabersti    3.0  73.6  157500    2140.0  kivimaja   \n",
       "3     Sitsi 14a-3  Põhja-Tallinn    3.0  55.7  144035    2586.0  kivimaja   \n",
       "4  Valge tn 10e-6       Lasnamäe    4.0  88.4  209900    2374.0  kivimaja   \n",
       "\n",
       "             condition  year_built   age  floor  total_floors  \n",
       "0  vajab renoveerimist      1974.0  45.0    4.0           9.0  \n",
       "1                  uus      2020.0   0.0    2.0           3.0  \n",
       "2                  NaN      2007.0  12.0    2.0           4.0  \n",
       "3                  uus      2020.0   0.0    2.0           3.0  \n",
       "4                  uus      2020.0   0.0    NaN           NaN  "
      ]
     },
     "execution_count": 4,
     "metadata": {},
     "output_type": "execute_result"
    }
   ],
   "source": [
    "df.head()"
   ]
  },
  {
   "cell_type": "code",
   "execution_count": 5,
   "metadata": {},
   "outputs": [
    {
     "name": "stdout",
     "output_type": "stream",
     "text": [
      "<class 'pandas.core.frame.DataFrame'>\n",
      "RangeIndex: 8103 entries, 0 to 8102\n",
      "Data columns (total 12 columns):\n",
      "street          8103 non-null object\n",
      "district        8103 non-null object\n",
      "rooms           8060 non-null float64\n",
      "area            8092 non-null float64\n",
      "price           8103 non-null int64\n",
      "price_m2        8102 non-null float64\n",
      "material        7028 non-null object\n",
      "condition       7013 non-null object\n",
      "year_built      6675 non-null float64\n",
      "age             6675 non-null float64\n",
      "floor           8016 non-null float64\n",
      "total_floors    7952 non-null float64\n",
      "dtypes: float64(7), int64(1), object(4)\n",
      "memory usage: 759.8+ KB\n"
     ]
    }
   ],
   "source": [
    "df.info()"
   ]
  },
  {
   "cell_type": "code",
   "execution_count": 6,
   "metadata": {},
   "outputs": [
    {
     "data": {
      "text/html": [
       "<div>\n",
       "<style scoped>\n",
       "    .dataframe tbody tr th:only-of-type {\n",
       "        vertical-align: middle;\n",
       "    }\n",
       "\n",
       "    .dataframe tbody tr th {\n",
       "        vertical-align: top;\n",
       "    }\n",
       "\n",
       "    .dataframe thead th {\n",
       "        text-align: right;\n",
       "    }\n",
       "</style>\n",
       "<table border=\"1\" class=\"dataframe\">\n",
       "  <thead>\n",
       "    <tr style=\"text-align: right;\">\n",
       "      <th></th>\n",
       "      <th>rooms</th>\n",
       "      <th>area</th>\n",
       "      <th>price</th>\n",
       "      <th>price_m2</th>\n",
       "      <th>year_built</th>\n",
       "      <th>age</th>\n",
       "      <th>floor</th>\n",
       "      <th>total_floors</th>\n",
       "    </tr>\n",
       "  </thead>\n",
       "  <tbody>\n",
       "    <tr>\n",
       "      <td>count</td>\n",
       "      <td>8060.000000</td>\n",
       "      <td>8092.000000</td>\n",
       "      <td>8.103000e+03</td>\n",
       "      <td>8102.000000</td>\n",
       "      <td>6675.000000</td>\n",
       "      <td>6675.000000</td>\n",
       "      <td>8016.000000</td>\n",
       "      <td>7952.000000</td>\n",
       "    </tr>\n",
       "    <tr>\n",
       "      <td>mean</td>\n",
       "      <td>2.660918</td>\n",
       "      <td>68.398159</td>\n",
       "      <td>1.693797e+05</td>\n",
       "      <td>2434.159146</td>\n",
       "      <td>1994.985318</td>\n",
       "      <td>24.268165</td>\n",
       "      <td>4.267715</td>\n",
       "      <td>6.320171</td>\n",
       "    </tr>\n",
       "    <tr>\n",
       "      <td>std</td>\n",
       "      <td>1.037950</td>\n",
       "      <td>50.407984</td>\n",
       "      <td>1.411889e+05</td>\n",
       "      <td>2756.635297</td>\n",
       "      <td>64.481436</td>\n",
       "      <td>64.384239</td>\n",
       "      <td>28.774147</td>\n",
       "      <td>4.086612</td>\n",
       "    </tr>\n",
       "    <tr>\n",
       "      <td>min</td>\n",
       "      <td>1.000000</td>\n",
       "      <td>3.800000</td>\n",
       "      <td>3.500000e+02</td>\n",
       "      <td>0.000000</td>\n",
       "      <td>19.000000</td>\n",
       "      <td>0.000000</td>\n",
       "      <td>0.000000</td>\n",
       "      <td>-9.000000</td>\n",
       "    </tr>\n",
       "    <tr>\n",
       "      <td>25%</td>\n",
       "      <td>2.000000</td>\n",
       "      <td>45.400000</td>\n",
       "      <td>9.100000e+04</td>\n",
       "      <td>1846.000000</td>\n",
       "      <td>1979.000000</td>\n",
       "      <td>0.000000</td>\n",
       "      <td>2.000000</td>\n",
       "      <td>4.000000</td>\n",
       "    </tr>\n",
       "    <tr>\n",
       "      <td>50%</td>\n",
       "      <td>3.000000</td>\n",
       "      <td>62.100000</td>\n",
       "      <td>1.350000e+05</td>\n",
       "      <td>2281.000000</td>\n",
       "      <td>2017.000000</td>\n",
       "      <td>2.000000</td>\n",
       "      <td>3.000000</td>\n",
       "      <td>5.000000</td>\n",
       "    </tr>\n",
       "    <tr>\n",
       "      <td>75%</td>\n",
       "      <td>3.000000</td>\n",
       "      <td>79.400000</td>\n",
       "      <td>1.980000e+05</td>\n",
       "      <td>2823.000000</td>\n",
       "      <td>2019.000000</td>\n",
       "      <td>40.000000</td>\n",
       "      <td>5.000000</td>\n",
       "      <td>8.000000</td>\n",
       "    </tr>\n",
       "    <tr>\n",
       "      <td>max</td>\n",
       "      <td>13.000000</td>\n",
       "      <td>3151.000000</td>\n",
       "      <td>3.000000e+06</td>\n",
       "      <td>240000.000000</td>\n",
       "      <td>2021.000000</td>\n",
       "      <td>2000.000000</td>\n",
       "      <td>2007.000000</td>\n",
       "      <td>30.000000</td>\n",
       "    </tr>\n",
       "  </tbody>\n",
       "</table>\n",
       "</div>"
      ],
      "text/plain": [
       "             rooms         area         price       price_m2   year_built  \\\n",
       "count  8060.000000  8092.000000  8.103000e+03    8102.000000  6675.000000   \n",
       "mean      2.660918    68.398159  1.693797e+05    2434.159146  1994.985318   \n",
       "std       1.037950    50.407984  1.411889e+05    2756.635297    64.481436   \n",
       "min       1.000000     3.800000  3.500000e+02       0.000000    19.000000   \n",
       "25%       2.000000    45.400000  9.100000e+04    1846.000000  1979.000000   \n",
       "50%       3.000000    62.100000  1.350000e+05    2281.000000  2017.000000   \n",
       "75%       3.000000    79.400000  1.980000e+05    2823.000000  2019.000000   \n",
       "max      13.000000  3151.000000  3.000000e+06  240000.000000  2021.000000   \n",
       "\n",
       "               age        floor  total_floors  \n",
       "count  6675.000000  8016.000000   7952.000000  \n",
       "mean     24.268165     4.267715      6.320171  \n",
       "std      64.384239    28.774147      4.086612  \n",
       "min       0.000000     0.000000     -9.000000  \n",
       "25%       0.000000     2.000000      4.000000  \n",
       "50%       2.000000     3.000000      5.000000  \n",
       "75%      40.000000     5.000000      8.000000  \n",
       "max    2000.000000  2007.000000     30.000000  "
      ]
     },
     "execution_count": 6,
     "metadata": {},
     "output_type": "execute_result"
    }
   ],
   "source": [
    "df.describe()"
   ]
  },
  {
   "cell_type": "code",
   "execution_count": 7,
   "metadata": {},
   "outputs": [
    {
     "data": {
      "text/plain": [
       "street          0.000000\n",
       "district        0.000000\n",
       "rooms           0.005307\n",
       "area            0.001358\n",
       "price           0.000000\n",
       "price_m2        0.000123\n",
       "material        0.132667\n",
       "condition       0.134518\n",
       "year_built      0.176231\n",
       "age             0.176231\n",
       "floor           0.010737\n",
       "total_floors    0.018635\n",
       "dtype: float64"
      ]
     },
     "execution_count": 7,
     "metadata": {},
     "output_type": "execute_result"
    }
   ],
   "source": [
    "df.isnull().sum() / len(df)"
   ]
  },
  {
   "cell_type": "code",
   "execution_count": 8,
   "metadata": {},
   "outputs": [
    {
     "data": {
      "text/plain": [
       "169379.72627421943"
      ]
     },
     "execution_count": 8,
     "metadata": {},
     "output_type": "execute_result"
    }
   ],
   "source": [
    "df['price'].mean()"
   ]
  },
  {
   "cell_type": "code",
   "execution_count": 9,
   "metadata": {},
   "outputs": [
    {
     "data": {
      "text/plain": [
       "135000.0"
      ]
     },
     "execution_count": 9,
     "metadata": {},
     "output_type": "execute_result"
    }
   ],
   "source": [
    "df['price'].median()"
   ]
  },
  {
   "cell_type": "code",
   "execution_count": 10,
   "metadata": {},
   "outputs": [
    {
     "data": {
      "text/plain": [
       "105872.5560165975"
      ]
     },
     "execution_count": 10,
     "metadata": {},
     "output_type": "execute_result"
    }
   ],
   "source": [
    "df[df['district'] == 'Mustamäe']['price'].mean()"
   ]
  },
  {
   "cell_type": "markdown",
   "metadata": {},
   "source": [
    "<h2>Clean data</h2>"
   ]
  },
  {
   "cell_type": "markdown",
   "metadata": {},
   "source": [
    "<h3>Remove duplicates</h3>"
   ]
  },
  {
   "cell_type": "code",
   "execution_count": 11,
   "metadata": {},
   "outputs": [],
   "source": [
    "df = df.drop_duplicates()"
   ]
  },
  {
   "cell_type": "markdown",
   "metadata": {},
   "source": [
    "### Remove unnecessary columns"
   ]
  },
  {
   "cell_type": "code",
   "execution_count": 12,
   "metadata": {},
   "outputs": [],
   "source": [
    "df.drop(['price_m2', 'age', 'floor', 'street'], axis=1, inplace=True)"
   ]
  },
  {
   "cell_type": "markdown",
   "metadata": {},
   "source": [
    "<h3>Remove data that does not include rooms, area, material, condition or year_built</h3>"
   ]
  },
  {
   "cell_type": "code",
   "execution_count": 13,
   "metadata": {},
   "outputs": [],
   "source": [
    "df = df[pd.notnull(df['rooms'])]\n",
    "df = df[pd.notnull(df['area'])]\n",
    "df = df[pd.notnull(df['material'])]\n",
    "df = df[pd.notnull(df['condition'])]\n",
    "df = df[pd.notnull(df['year_built'])]"
   ]
  },
  {
   "cell_type": "markdown",
   "metadata": {},
   "source": [
    "### Find anomalies"
   ]
  },
  {
   "cell_type": "code",
   "execution_count": 14,
   "metadata": {},
   "outputs": [
    {
     "data": {
      "text/plain": [
       "array(['Põhja-Tallinn', 'Lasnamäe', 'Kesklinn', 'Nõmme', 'Haabersti',\n",
       "       'Kristiine', 'Mustamäe', 'Kadriorg', 'Pirita', 'Vanalinn',\n",
       "       'Kesklinna', 'Mustamäe 191'], dtype=object)"
      ]
     },
     "execution_count": 14,
     "metadata": {},
     "output_type": "execute_result"
    }
   ],
   "source": [
    "df['district'].unique()"
   ]
  },
  {
   "cell_type": "code",
   "execution_count": 15,
   "metadata": {},
   "outputs": [
    {
     "data": {
      "text/plain": [
       "array([ 3.,  4.,  2.,  5.,  1.,  6.,  8.,  7., 11.])"
      ]
     },
     "execution_count": 15,
     "metadata": {},
     "output_type": "execute_result"
    }
   ],
   "source": [
    "df['rooms'].unique()"
   ]
  },
  {
   "cell_type": "code",
   "execution_count": 16,
   "metadata": {},
   "outputs": [
    {
     "data": {
      "text/plain": [
       "array(['kivimaja', 'paneelmaja', 'palkmaja', 'puitmaja'], dtype=object)"
      ]
     },
     "execution_count": 16,
     "metadata": {},
     "output_type": "execute_result"
    }
   ],
   "source": [
    "df['material'].unique()"
   ]
  },
  {
   "cell_type": "code",
   "execution_count": 17,
   "metadata": {},
   "outputs": [
    {
     "data": {
      "text/plain": [
       "array(['uus', 'renoveeritud', 'keskmises seisukorras', 'heas korras',\n",
       "       'vajab renoveerimist', 'vajab san. remonti', 'san. remont tehtud'],\n",
       "      dtype=object)"
      ]
     },
     "execution_count": 17,
     "metadata": {},
     "output_type": "execute_result"
    }
   ],
   "source": [
    "df['condition'].unique()"
   ]
  },
  {
   "cell_type": "code",
   "execution_count": 18,
   "metadata": {},
   "outputs": [
    {
     "data": {
      "image/png": "[encoded data removed]",
      "text/plain": [
       "<Figure size 432x288 with 1 Axes>"
      ]
     },
     "metadata": {
      "needs_background": "light"
     },
     "output_type": "display_data"
    }
   ],
   "source": [
    "df['year_built'].plot(kind='box')\n",
    "plt.show()"
   ]
  },
  {
   "cell_type": "code",
   "execution_count": 19,
   "metadata": {},
   "outputs": [
    {
     "data": {
      "image/png": "[encoded data removed]",
      "text/plain": [
       "<Figure size 432x288 with 1 Axes>"
      ]
     },
     "metadata": {
      "needs_background": "light"
     },
     "output_type": "display_data"
    }
   ],
   "source": [
    "df['price'].plot(kind='box')\n",
    "plt.show()"
   ]
  },
  {
   "cell_type": "code",
   "execution_count": 20,
   "metadata": {},
   "outputs": [],
   "source": [
    "df.drop(df[df.price > 2500000].index, inplace=True)\n",
    "df.drop(df[df.price < 4000].index, inplace=True)\n",
    "df.drop(df[df.year_built < 750].index, inplace=True)"
   ]
  },
  {
   "cell_type": "markdown",
   "metadata": {},
   "source": [
    "<h3>Correct district typos</h3>"
   ]
  },
  {
   "cell_type": "code",
   "execution_count": 21,
   "metadata": {},
   "outputs": [
    {
     "data": {
      "text/plain": [
       "array(['Põhja-Tallinn', 'Lasnamäe', 'Kesklinn', 'Nõmme', 'Haabersti',\n",
       "       'Kristiine', 'Mustamäe', 'Kadriorg', 'Pirita', 'Vanalinn',\n",
       "       'Kesklinna', 'Mustamäe 191'], dtype=object)"
      ]
     },
     "execution_count": 21,
     "metadata": {},
     "output_type": "execute_result"
    }
   ],
   "source": [
    "df['district'].unique()"
   ]
  },
  {
   "cell_type": "code",
   "execution_count": 22,
   "metadata": {},
   "outputs": [],
   "source": [
    "df['district'] = df['district'].replace('Põhja-Tallinna', 'Põhja-Tallinn')\n",
    "df['district'] = df['district'].replace('Kesklinna', 'Kesklinn')\n",
    "df['district'] = df['district'].replace('Mustamäe 191', 'Mustamäe')"
   ]
  },
  {
   "cell_type": "code",
   "execution_count": 23,
   "metadata": {},
   "outputs": [
    {
     "data": {
      "text/plain": [
       "array(['Põhja-Tallinn', 'Lasnamäe', 'Kesklinn', 'Nõmme', 'Haabersti',\n",
       "       'Kristiine', 'Mustamäe', 'Kadriorg', 'Pirita', 'Vanalinn'],\n",
       "      dtype=object)"
      ]
     },
     "execution_count": 23,
     "metadata": {},
     "output_type": "execute_result"
    }
   ],
   "source": [
    "df['district'].unique()"
   ]
  },
  {
   "cell_type": "markdown",
   "metadata": {},
   "source": [
    "### Replace NaN values with mean"
   ]
  },
  {
   "cell_type": "code",
   "execution_count": 24,
   "metadata": {},
   "outputs": [],
   "source": [
    "df = df.fillna(df.mean())"
   ]
  },
  {
   "cell_type": "code",
   "execution_count": 25,
   "metadata": {},
   "outputs": [
    {
     "name": "stdout",
     "output_type": "stream",
     "text": [
      "<class 'pandas.core.frame.DataFrame'>\n",
      "Int64Index: 4554 entries, 1 to 8102\n",
      "Data columns (total 9 columns):\n",
      "street          4554 non-null object\n",
      "district        4554 non-null object\n",
      "rooms           4554 non-null float64\n",
      "area            4554 non-null float64\n",
      "price           4554 non-null int64\n",
      "material        4554 non-null object\n",
      "condition       4554 non-null object\n",
      "year_built      4554 non-null float64\n",
      "total_floors    4554 non-null float64\n",
      "dtypes: float64(4), int64(1), object(4)\n",
      "memory usage: 355.8+ KB\n"
     ]
    }
   ],
   "source": [
    "df.info()"
   ]
  },
  {
   "cell_type": "markdown",
   "metadata": {},
   "source": [
    "### Data is now cleaned. Save cleaned data to new csv."
   ]
  },
  {
   "cell_type": "code",
   "execution_count": 26,
   "metadata": {},
   "outputs": [],
   "source": [
    "# df.to_csv(r'../data/tln_clean_data.csv', index=False)"
   ]
  },
  {
   "cell_type": "code",
   "execution_count": 8,
   "metadata": {},
   "outputs": [],
   "source": [
    "df = pd.read_csv(r'../data/tln_clean_data.csv', na_values='-')"
   ]
  },
  {
   "cell_type": "code",
   "execution_count": 52,
   "metadata": {},
   "outputs": [
    {
     "name": "stdout",
     "output_type": "stream",
     "text": [
      "<class 'pandas.core.frame.DataFrame'>\n",
      "RangeIndex: 4554 entries, 0 to 4553\n",
      "Data columns (total 9 columns):\n",
      "street          4554 non-null object\n",
      "district        4554 non-null object\n",
      "rooms           4554 non-null float64\n",
      "area            4554 non-null float64\n",
      "price           4554 non-null int64\n",
      "material        4554 non-null object\n",
      "condition       4554 non-null object\n",
      "year_built      4554 non-null float64\n",
      "total_floors    4554 non-null float64\n",
      "dtypes: float64(4), int64(1), object(4)\n",
      "memory usage: 320.3+ KB\n"
     ]
    }
   ],
   "source": [
    "df.info()"
   ]
  },
  {
   "cell_type": "markdown",
   "metadata": {},
   "source": [
    "### Analyse prices by district, material and condition"
   ]
  },
  {
   "cell_type": "code",
   "execution_count": 53,
   "metadata": {},
   "outputs": [
    {
     "data": {
      "image/png": "[encoded data removed]",
      "text/plain": [
       "<Figure size 1440x720 with 1 Axes>"
      ]
     },
     "metadata": {
      "needs_background": "light"
     },
     "output_type": "display_data"
    }
   ],
   "source": [
    "plt.figure(figsize=(20,10))\n",
    "sns.boxplot(x=\"district\", y=\"price\", data=df);"
   ]
  },
  {
   "cell_type": "code",
   "execution_count": 54,
   "metadata": {},
   "outputs": [
    {
     "data": {
      "image/png": "[encoded data removed]",
      "text/plain": [
       "<Figure size 1440x720 with 1 Axes>"
      ]
     },
     "metadata": {
      "needs_background": "light"
     },
     "output_type": "display_data"
    }
   ],
   "source": [
    "plt.figure(figsize=(20,10))\n",
    "sns.boxplot(x=\"material\", y=\"price\", data=df);"
   ]
  },
  {
   "cell_type": "code",
   "execution_count": 55,
   "metadata": {},
   "outputs": [
    {
     "data": {
      "image/png": "[encoded data removed]",
      "text/plain": [
       "<Figure size 1440x720 with 1 Axes>"
      ]
     },
     "metadata": {
      "needs_background": "light"
     },
     "output_type": "display_data"
    }
   ],
   "source": [
    "plt.figure(figsize=(20,10))\n",
    "sns.boxplot(x=\"condition\", y=\"price\", data=df);"
   ]
  },
  {
   "cell_type": "markdown",
   "metadata": {},
   "source": [
    "### Check correlations"
   ]
  },
  {
   "cell_type": "code",
   "execution_count": 56,
   "metadata": {},
   "outputs": [
    {
     "data": {
      "text/plain": [
       "<matplotlib.axes._subplots.AxesSubplot at 0x1a19c45fd0>"
      ]
     },
     "execution_count": 56,
     "metadata": {},
     "output_type": "execute_result"
    },
    {
     "data": {
      "image/png": "[encoded data removed]",
      "text/plain": [
       "<Figure size 864x504 with 2 Axes>"
      ]
     },
     "metadata": {
      "needs_background": "light"
     },
     "output_type": "display_data"
    }
   ],
   "source": [
    "df_corr = df.corr()\n",
    "plt.figure(figsize=(12,7))\n",
    "sns.heatmap(data=df_corr, annot=True, square=True)"
   ]
  },
  {
   "cell_type": "markdown",
   "metadata": {},
   "source": [
    "<h2>Use One Hot Encoding to convert categorical data to numerical values</h2>"
   ]
  },
  {
   "cell_type": "code",
   "execution_count": 57,
   "metadata": {},
   "outputs": [],
   "source": [
    "district = pd.get_dummies(df['district'])\n",
    "material = pd.get_dummies(df['material'])\n",
    "condition = pd.get_dummies(df['condition'])"
   ]
  },
  {
   "cell_type": "code",
   "execution_count": 58,
   "metadata": {},
   "outputs": [],
   "source": [
    "df = pd.concat([df, district, material, condition], axis=1)"
   ]
  },
  {
   "cell_type": "markdown",
   "metadata": {},
   "source": [
    "<h3>Remove non-numeric features</h3>"
   ]
  },
  {
   "cell_type": "code",
   "execution_count": 59,
   "metadata": {},
   "outputs": [],
   "source": [
    "df.drop(['street', 'district', 'material', 'condition'], axis=1, inplace=True)"
   ]
  },
  {
   "cell_type": "code",
   "execution_count": 60,
   "metadata": {},
   "outputs": [
    {
     "name": "stdout",
     "output_type": "stream",
     "text": [
      "<class 'pandas.core.frame.DataFrame'>\n",
      "RangeIndex: 4554 entries, 0 to 4553\n",
      "Data columns (total 26 columns):\n",
      "rooms                    4554 non-null float64\n",
      "area                     4554 non-null float64\n",
      "price                    4554 non-null int64\n",
      "year_built               4554 non-null float64\n",
      "total_floors             4554 non-null float64\n",
      "Haabersti                4554 non-null uint8\n",
      "Kadriorg                 4554 non-null uint8\n",
      "Kesklinn                 4554 non-null uint8\n",
      "Kristiine                4554 non-null uint8\n",
      "Lasnamäe                 4554 non-null uint8\n",
      "Mustamäe                 4554 non-null uint8\n",
      "Nõmme                    4554 non-null uint8\n",
      "Pirita                   4554 non-null uint8\n",
      "Põhja-Tallinn            4554 non-null uint8\n",
      "Vanalinn                 4554 non-null uint8\n",
      "kivimaja                 4554 non-null uint8\n",
      "palkmaja                 4554 non-null uint8\n",
      "paneelmaja               4554 non-null uint8\n",
      "puitmaja                 4554 non-null uint8\n",
      "heas korras              4554 non-null uint8\n",
      "keskmises seisukorras    4554 non-null uint8\n",
      "renoveeritud             4554 non-null uint8\n",
      "san. remont tehtud       4554 non-null uint8\n",
      "uus                      4554 non-null uint8\n",
      "vajab renoveerimist      4554 non-null uint8\n",
      "vajab san. remonti       4554 non-null uint8\n",
      "dtypes: float64(4), int64(1), uint8(21)\n",
      "memory usage: 271.4 KB\n"
     ]
    }
   ],
   "source": [
    "df.info()"
   ]
  },
  {
   "cell_type": "markdown",
   "metadata": {},
   "source": [
    "### Separate features(X) and labels(y)"
   ]
  },
  {
   "cell_type": "code",
   "execution_count": 9,
   "metadata": {},
   "outputs": [],
   "source": [
    "X = df.drop(['price'], axis=1)\n",
    "y = df['price']"
   ]
  },
  {
   "cell_type": "markdown",
   "metadata": {},
   "source": [
    "### Create training and test data"
   ]
  },
  {
   "cell_type": "code",
   "execution_count": 10,
   "metadata": {},
   "outputs": [],
   "source": [
    "from sklearn.model_selection import train_test_split"
   ]
  },
  {
   "cell_type": "code",
   "execution_count": 11,
   "metadata": {},
   "outputs": [],
   "source": [
    "X_train, X_test, y_train, y_test = train_test_split(X, y,\n",
    "                                                    test_size=0.30, random_state=0)"
   ]
  },
  {
   "cell_type": "markdown",
   "metadata": {},
   "source": [
    "## Find best model"
   ]
  },
  {
   "cell_type": "code",
   "execution_count": 76,
   "metadata": {},
   "outputs": [],
   "source": [
    "from sklearn.linear_model import LinearRegression\n",
    "from sklearn.ensemble import RandomForestRegressor\n",
    "from sklearn.ensemble import AdaBoostRegressor\n",
    "from sklearn.ensemble import GradientBoostingRegressor\n",
    "import xgboost\n",
    "import lightgbm\n",
    "import catboost\n",
    "from sklearn.metrics import explained_variance_score"
   ]
  },
  {
   "cell_type": "code",
   "execution_count": 77,
   "metadata": {},
   "outputs": [
    {
     "data": {
      "text/plain": [
       "0.7952348803482394"
      ]
     },
     "execution_count": 77,
     "metadata": {},
     "output_type": "execute_result"
    }
   ],
   "source": [
    "lir = LinearRegression()\n",
    "lir.fit(X_train, y_train)\n",
    "lir.score(X_test, y_test)"
   ]
  },
  {
   "cell_type": "code",
   "execution_count": 78,
   "metadata": {},
   "outputs": [
    {
     "name": "stderr",
     "output_type": "stream",
     "text": [
      "/Users/andre/anaconda3/lib/python3.7/site-packages/sklearn/ensemble/forest.py:245: FutureWarning: The default value of n_estimators will change from 10 in version 0.20 to 100 in 0.22.\n",
      "  \"10 in version 0.20 to 100 in 0.22.\", FutureWarning)\n"
     ]
    },
    {
     "data": {
      "text/plain": [
       "0.8647624574353654"
      ]
     },
     "execution_count": 78,
     "metadata": {},
     "output_type": "execute_result"
    }
   ],
   "source": [
    "rfg = RandomForestRegressor()\n",
    "rfg.fit(X_train, y_train)\n",
    "rfg.score(X_test, y_test)"
   ]
  },
  {
   "cell_type": "code",
   "execution_count": 79,
   "metadata": {},
   "outputs": [
    {
     "data": {
      "text/plain": [
       "0.6919723918112104"
      ]
     },
     "execution_count": 79,
     "metadata": {},
     "output_type": "execute_result"
    }
   ],
   "source": [
    "abr = AdaBoostRegressor()\n",
    "abr.fit(X_train, y_train)\n",
    "abr.score(X_test, y_test)"
   ]
  },
  {
   "cell_type": "code",
   "execution_count": 80,
   "metadata": {},
   "outputs": [
    {
     "data": {
      "text/plain": [
       "0.860820007718518"
      ]
     },
     "execution_count": 80,
     "metadata": {},
     "output_type": "execute_result"
    }
   ],
   "source": [
    "gbr = GradientBoostingRegressor()\n",
    "gbr.fit(X_train, y_train)\n",
    "gbr.score(X_test, y_test)"
   ]
  },
  {
   "cell_type": "code",
   "execution_count": 81,
   "metadata": {},
   "outputs": [
    {
     "name": "stderr",
     "output_type": "stream",
     "text": [
      "/Users/andre/anaconda3/lib/python3.7/site-packages/xgboost/core.py:587: FutureWarning: Series.base is deprecated and will be removed in a future version\n",
      "  if getattr(data, 'base', None) is not None and \\\n"
     ]
    },
    {
     "name": "stdout",
     "output_type": "stream",
     "text": [
      "[12:41:41] WARNING: src/objective/regression_obj.cu:152: reg:linear is now deprecated in favor of reg:squarederror.\n"
     ]
    },
    {
     "data": {
      "text/plain": [
       "0.8588979160779195"
      ]
     },
     "execution_count": 81,
     "metadata": {},
     "output_type": "execute_result"
    }
   ],
   "source": [
    "xgb = xgboost.XGBRegressor()\n",
    "xgb.fit(X_train,y_train)\n",
    "xgb.score(X_test, y_test)"
   ]
  },
  {
   "cell_type": "code",
   "execution_count": 82,
   "metadata": {},
   "outputs": [
    {
     "data": {
      "text/plain": [
       "0.8464651779297354"
      ]
     },
     "execution_count": 82,
     "metadata": {},
     "output_type": "execute_result"
    }
   ],
   "source": [
    "lgbm = lightgbm.LGBMRegressor()\n",
    "feature_names = [e.replace('õ', 'o').replace('ä', 'a') for e in X.columns]\n",
    "lgbm.fit(X_train, y_train, feature_name=feature_names)\n",
    "lgbm.score(X_test, y_test)"
   ]
  },
  {
   "cell_type": "code",
   "execution_count": 85,
   "metadata": {},
   "outputs": [
    {
     "data": {
      "text/plain": [
       "0.904839550716917"
      ]
     },
     "execution_count": 85,
     "metadata": {},
     "output_type": "execute_result"
    }
   ],
   "source": [
    "cb = catboost.CatBoostRegressor()\n",
    "cb.fit(X_train, y_train, verbose=False)\n",
    "cb.score(X_test, y_test)"
   ]
  },
  {
   "cell_type": "markdown",
   "metadata": {},
   "source": [
    "## catboost got the best result. Let's use that as our model."
   ]
  },
  {
   "cell_type": "code",
   "execution_count": 22,
   "metadata": {},
   "outputs": [],
   "source": [
    "df = pd.read_csv(r'../data/tln_clean_data.csv', na_values='-')"
   ]
  },
  {
   "cell_type": "code",
   "execution_count": 23,
   "metadata": {},
   "outputs": [],
   "source": [
    "from sklearn.model_selection import train_test_split\n",
    "\n",
    "X = df.drop(['price', 'street'], axis=1)\n",
    "y = df['price']\n",
    "\n",
    "X_train, X_test, y_train, y_test = train_test_split(X, y, test_size=0.30, random_state=0)"
   ]
  },
  {
   "cell_type": "code",
   "execution_count": 90,
   "metadata": {},
   "outputs": [
    {
     "data": {
      "text/plain": [
       "0.9040278149155629"
      ]
     },
     "execution_count": 90,
     "metadata": {},
     "output_type": "execute_result"
    }
   ],
   "source": [
    "import catboost\n",
    "\n",
    "categorical_features_indices = np.where(X.dtypes != np.float)[0]\n",
    "\n",
    "m = catboost.CatBoostRegressor(one_hot_max_size=20)\n",
    "m.fit(X_train, y_train, verbose=False, cat_features=categorical_features_indices)\n",
    "m.score(X_test, y_test)"
   ]
  },
  {
   "cell_type": "markdown",
   "metadata": {},
   "source": [
    "## Save model"
   ]
  },
  {
   "cell_type": "code",
   "execution_count": 2,
   "metadata": {},
   "outputs": [],
   "source": [
    "import joblib "
   ]
  },
  {
   "cell_type": "code",
   "execution_count": 92,
   "metadata": {},
   "outputs": [
    {
     "data": {
      "text/plain": [
       "['../tln_house_model.pkl']"
      ]
     },
     "execution_count": 92,
     "metadata": {},
     "output_type": "execute_result"
    }
   ],
   "source": [
    "# joblib.dump(m, r'../tln_house_model.pkl') "
   ]
  },
  {
   "cell_type": "markdown",
   "metadata": {},
   "source": [
    "### load the model"
   ]
  },
  {
   "cell_type": "code",
   "execution_count": 18,
   "metadata": {},
   "outputs": [],
   "source": [
    "model = joblib.load(\"../tln_house_model.pkl\")"
   ]
  },
  {
   "cell_type": "code",
   "execution_count": 27,
   "metadata": {},
   "outputs": [
    {
     "data": {
      "text/plain": [
       "82028.05433647013"
      ]
     },
     "execution_count": 27,
     "metadata": {},
     "output_type": "execute_result"
    }
   ],
   "source": [
    "user_input = {\n",
    "    'district': 'Mustamäe',\n",
    "    'area': '42',\n",
    "    'rooms': '2',\n",
    "    'total_floors': '7',\n",
    "    'year_built': '1977',\n",
    "    'material': 'kivimaja',\n",
    "    'condition': 'heas korras'\n",
    "}\n",
    "\n",
    "X_columns = list(X.columns.values)\n",
    "d = pd.DataFrame(0, index=[0], columns=X_columns)\n",
    "d\n",
    "\n",
    "d['area'] = user_input['area']\n",
    "d['rooms'] = user_input['rooms']\n",
    "d['year_built'] = user_input['year_built']\n",
    "d['district'] = user_input['district']\n",
    "d['material'] = user_input['material']\n",
    "d['condition'] = user_input['condition']\n",
    "d['total_floors'] = user_input['total_floors']\n",
    "\n",
    "model.predict(d)[0]"
   ]
  },
  {
   "cell_type": "code",
   "execution_count": 29,
   "metadata": {},
   "outputs": [
    {
     "data": {
      "text/plain": [
       "134503.38884124314"
      ]
     },
     "execution_count": 29,
     "metadata": {},
     "output_type": "execute_result"
    }
   ],
   "source": [
    "user_input = {\n",
    "    'district': 'Nõmme',\n",
    "    'area': '80',\n",
    "    'rooms': '3',\n",
    "    'total_floors': '3',\n",
    "    'year_built': '1950',\n",
    "    'material': 'puumaja',\n",
    "    'condition': 'heas korras'\n",
    "}\n",
    "\n",
    "X_columns = list(X.columns.values)\n",
    "d = pd.DataFrame(0, index=[0], columns=X_columns)\n",
    "d\n",
    "\n",
    "d['area'] = user_input['area']\n",
    "d['rooms'] = user_input['rooms']\n",
    "d['year_built'] = user_input['year_built']\n",
    "d['district'] = user_input['district']\n",
    "d['material'] = user_input['material']\n",
    "d['condition'] = user_input['condition']\n",
    "d['total_floors'] = user_input['total_floors']\n",
    "\n",
    "model.predict(d)[0]"
   ]
  },
  {
   "cell_type": "code",
   "execution_count": 96,
   "metadata": {},
   "outputs": [],
   "source": [
    "predictions = model.predict(X_test)"
   ]
  },
  {
   "cell_type": "code",
   "execution_count": 102,
   "metadata": {},
   "outputs": [
    {
     "name": "stdout",
     "output_type": "stream",
     "text": [
      "MAE: 19495.44531164759\n",
      "MSE: 1370108558.158559\n",
      "RMSE: 37014.97748423683\n"
     ]
    }
   ],
   "source": [
    "from sklearn import metrics\n",
    "\n",
    "print('MAE:', metrics.mean_absolute_error(y_test, predictions))\n",
    "print('MSE:', metrics.mean_squared_error(y_test, predictions))\n",
    "print('RMSE:', np.sqrt(metrics.mean_squared_error(y_test, predictions)))"
   ]
  },
  {
   "cell_type": "code",
   "execution_count": 103,
   "metadata": {},
   "outputs": [],
   "source": [
    "from catboost import Pool"
   ]
  },
  {
   "cell_type": "code",
   "execution_count": 104,
   "metadata": {},
   "outputs": [
    {
     "data": {
      "text/plain": [
       "array([10.26943168,  4.84749776, 56.23448732,  2.69188245,  6.17943408,\n",
       "       11.51532609,  8.26194063])"
      ]
     },
     "execution_count": 104,
     "metadata": {},
     "output_type": "execute_result"
    }
   ],
   "source": [
    "model.get_feature_importance()"
   ]
  },
  {
   "cell_type": "code",
   "execution_count": 105,
   "metadata": {},
   "outputs": [
    {
     "name": "stderr",
     "output_type": "stream",
     "text": [
      "Got unsafe target value = 1.057e+06 at object #192 of dataset \n"
     ]
    },
    {
     "data": {
      "image/png": "[encoded data removed]",
      "text/plain": [
       "<Figure size 864x504 with 1 Axes>"
      ]
     },
     "metadata": {
      "needs_background": "light"
     },
     "output_type": "display_data"
    }
   ],
   "source": [
    "feature_score = pd.DataFrame(list(zip(X.dtypes.index, model.get_feature_importance(Pool(X, label=y, cat_features=categorical_features_indices)))),\n",
    "                columns=['Feature','Score'])\n",
    "\n",
    "feature_score = feature_score.sort_values(by='Score', ascending=False, inplace=False, kind='quicksort', na_position='last')\n",
    "\n",
    "plt.rcParams[\"figure.figsize\"] = (12,7)\n",
    "ax = feature_score.plot('Feature', 'Score', kind='bar', color='c')\n",
    "ax.set_title(\"Catboost Feature Importance Ranking\", fontsize = 14)\n",
    "ax.set_xlabel('')\n",
    "\n",
    "rects = ax.patches\n",
    "\n",
    "labels = feature_score['Score'].round(2)\n",
    "\n",
    "for rect, label in zip(rects, labels):\n",
    "    height = rect.get_height()\n",
    "    ax.text(rect.get_x() + rect.get_width()/2, height + 0.35, label, ha='center', va='bottom')\n",
    "\n",
    "plt.show()"
   ]
  },
  {
   "cell_type": "code",
   "execution_count": null,
   "metadata": {},
   "outputs": [],
   "source": []
  }
 ],
 "metadata": {
  "kernelspec": {
   "display_name": "Python 3",
   "language": "python",
   "name": "python3"
  },
  "language_info": {
   "codemirror_mode": {
    "name": "ipython",
    "version": 3
   },
   "file_extension": ".py",
   "mimetype": "text/x-python",
   "name": "python",
   "nbconvert_exporter": "python",
   "pygments_lexer": "ipython3",
   "version": "3.7.4"
  }
 },
 "nbformat": 4,
 "nbformat_minor": 2
}
