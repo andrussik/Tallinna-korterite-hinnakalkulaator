{
 "cells": [
  {
   "cell_type": "code",
   "execution_count": 1,
   "metadata": {},
   "outputs": [],
   "source": [
    "import glob, os\n",
    "import pandas as pd\n",
    "import seaborn as sns\n",
    "import numpy as np\n",
    "import matplotlib.pyplot as plt\n",
    "%matplotlib inline"
   ]
  },
  {
   "cell_type": "code",
   "execution_count": 2,
   "metadata": {},
   "outputs": [],
   "source": [
    "df = pd.read_csv(r'../data/tln_clean_data.csv', na_values='-')"
   ]
  },
  {
   "cell_type": "code",
   "execution_count": 12,
   "metadata": {},
   "outputs": [],
   "source": [
    "# district = pd.get_dummies(df['district'])\n",
    "# material = pd.get_dummies(df['material'])\n",
    "# condition = pd.get_dummies(df['condition'])\n",
    "# df = pd.concat([df, district, material, condition], axis=1)\n",
    "# df.drop(['street', 'district', 'material', 'condition'], axis=1, inplace=True)"
   ]
  },
  {
   "cell_type": "code",
   "execution_count": 3,
   "metadata": {},
   "outputs": [],
   "source": [
    "X = df.drop(['price', 'street'], axis=1)\n",
    "y = df['price']"
   ]
  },
  {
   "cell_type": "code",
   "execution_count": 4,
   "metadata": {},
   "outputs": [
    {
     "data": {
      "text/plain": [
       "district         object\n",
       "rooms           float64\n",
       "area            float64\n",
       "material         object\n",
       "condition        object\n",
       "year_built      float64\n",
       "total_floors    float64\n",
       "dtype: object"
      ]
     },
     "execution_count": 4,
     "metadata": {},
     "output_type": "execute_result"
    }
   ],
   "source": [
    "X.dtypes"
   ]
  },
  {
   "cell_type": "code",
   "execution_count": 5,
   "metadata": {},
   "outputs": [],
   "source": [
    "categorical_features_indices = np.where(X.dtypes != np.float)[0]"
   ]
  },
  {
   "cell_type": "code",
   "execution_count": 6,
   "metadata": {},
   "outputs": [],
   "source": [
    "from sklearn.model_selection import train_test_split"
   ]
  },
  {
   "cell_type": "code",
   "execution_count": 12,
   "metadata": {},
   "outputs": [],
   "source": [
    "X_train, X_test, y_train, y_test = train_test_split(X, y,\n",
    "                                                    test_size=0.30, random_state=0)"
   ]
  },
  {
   "cell_type": "code",
   "execution_count": 8,
   "metadata": {},
   "outputs": [],
   "source": [
    "import catboost"
   ]
  },
  {
   "cell_type": "code",
   "execution_count": 9,
   "metadata": {},
   "outputs": [
    {
     "data": {
      "text/plain": [
       "0.9040278149155629"
      ]
     },
     "execution_count": 9,
     "metadata": {},
     "output_type": "execute_result"
    }
   ],
   "source": [
    "cb = catboost.CatBoostRegressor(one_hot_max_size=20)\n",
    "cb.fit(X_train, y_train, verbose=False, cat_features=categorical_features_indices)\n",
    "# cb.fit(X_train, y_train, verbose=False)\n",
    "cb.score(X_test, y_test)"
   ]
  },
  {
   "cell_type": "code",
   "execution_count": 10,
   "metadata": {},
   "outputs": [
    {
     "data": {
      "text/plain": [
       "82028.05433647013"
      ]
     },
     "execution_count": 10,
     "metadata": {},
     "output_type": "execute_result"
    }
   ],
   "source": [
    "user_input = {\n",
    "    'district': 'Mustamäe',\n",
    "    'area': '42',\n",
    "    'rooms': '2',\n",
    "    'total_floors': '7',\n",
    "    'year_built': '1977',\n",
    "    'material': 'kivimaja',\n",
    "    'condition': 'heas korras'\n",
    "}\n",
    "\n",
    "X_columns = list(X.columns.values)\n",
    "d = pd.DataFrame(0, index=[0], columns=X_columns)\n",
    "d\n",
    "\n",
    "d['area'] = user_input['area']\n",
    "d['rooms'] = user_input['rooms']\n",
    "d['year_built'] = user_input['year_built']\n",
    "d['district'] = user_input['district']\n",
    "d['material'] = user_input['material']\n",
    "d['condition'] = user_input['condition']\n",
    "d['total_floors'] = user_input['total_floors']\n",
    "\n",
    "cb.predict(d)[0]"
   ]
  },
  {
   "cell_type": "code",
   "execution_count": 11,
   "metadata": {},
   "outputs": [
    {
     "data": {
      "text/plain": [
       "134503.38884124314"
      ]
     },
     "execution_count": 11,
     "metadata": {},
     "output_type": "execute_result"
    }
   ],
   "source": [
    "user_input = {\n",
    "    'district': 'Nõmme',\n",
    "    'area': '80',\n",
    "    'rooms': '3',\n",
    "    'total_floors': '3',\n",
    "    'year_built': '1950',\n",
    "    'material': 'puumaja',\n",
    "    'condition': 'heas korras'\n",
    "}\n",
    "\n",
    "X_columns = list(X.columns.values)\n",
    "d = pd.DataFrame(0, index=[0], columns=X_columns)\n",
    "d\n",
    "\n",
    "d['area'] = user_input['area']\n",
    "d['rooms'] = user_input['rooms']\n",
    "d['year_built'] = user_input['year_built']\n",
    "d['district'] = user_input['district']\n",
    "d['material'] = user_input['material']\n",
    "d['condition'] = user_input['condition']\n",
    "d['total_floors'] = user_input['total_floors']\n",
    "\n",
    "cb.predict(d)[0]"
   ]
  },
  {
   "cell_type": "code",
   "execution_count": null,
   "metadata": {},
   "outputs": [],
   "source": []
  }
 ],
 "metadata": {
  "kernelspec": {
   "display_name": "Python 3",
   "language": "python",
   "name": "python3"
  },
  "language_info": {
   "codemirror_mode": {
    "name": "ipython",
    "version": 3
   },
   "file_extension": ".py",
   "mimetype": "text/x-python",
   "name": "python",
   "nbconvert_exporter": "python",
   "pygments_lexer": "ipython3",
   "version": "3.7.4"
  }
 },
 "nbformat": 4,
 "nbformat_minor": 2
}
