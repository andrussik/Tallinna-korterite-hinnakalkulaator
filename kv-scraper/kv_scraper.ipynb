{
 "cells": [
  {
   "cell_type": "code",
   "execution_count": 10,
   "metadata": {},
   "outputs": [],
   "source": [
    "from bs4 import BeautifulSoup\n",
    "from tqdm import tqdm_notebook\n",
    "from time import sleep\n",
    "import datetime\n",
    "import requests\n",
    "import csv"
   ]
  },
  {
   "cell_type": "code",
   "execution_count": 3,
   "metadata": {},
   "outputs": [
    {
     "name": "stdout",
     "output_type": "stream",
     "text": [
      "b'<!DOCTYPE html>\\n<html lang=\"et\" dir=\"ltr\" class=\"no-js\">\\n<head>\\n    <meta charset=\"utf-8\" />\\n    <me'\n"
     ]
    }
   ],
   "source": [
    "main_url = \"https://www.kv.ee/?act=search.simple&last_deal_type=&company_id=&page=1&orderby=ob&page_size=50&deal_type=1&dt_select=1&county=1&search_type=new&parish=1061&rooms_min=&rooms_max=&price_min=&price_max=&nr_of_people=&area_min=&area_max=&floor_min=&floor_max=&energy_certs=&keyword=\"\n",
    "result = requests.get(main_url)\n",
    "print(result.content[:100])"
   ]
  },
  {
   "cell_type": "code",
   "execution_count": 4,
   "metadata": {},
   "outputs": [],
   "source": [
    "soup = BeautifulSoup(result.content, \"html.parser\")"
   ]
  },
  {
   "cell_type": "code",
   "execution_count": 5,
   "metadata": {},
   "outputs": [
    {
     "data": {
      "text/plain": [
       "'Kinnisvara KV.EE -  Kinnisvara pakkumised - korterid majad maad äripinnad.\\xa0 - Müüa korterid '"
      ]
     },
     "execution_count": 5,
     "metadata": {},
     "output_type": "execute_result"
    }
   ],
   "source": [
    "soup.title.text"
   ]
  },
  {
   "cell_type": "code",
   "execution_count": 6,
   "metadata": {},
   "outputs": [],
   "source": [
    "data = []"
   ]
  },
  {
   "cell_type": "code",
   "execution_count": 7,
   "metadata": {},
   "outputs": [],
   "source": [
    "total_pages = soup.select_one('a.count').text\n",
    "urls = []\n",
    "\n",
    "for x in range(1, int(total_pages) + 1):\n",
    "    urls.append(\"https://www.kv.ee/?act=search.simple&last_deal_type=&company_id=&page=\" + str(x) + \"&orderby=ob&page_size=50&deal_type=1&dt_select=1&county=1&search_type=new&parish=1061&rooms_min=&rooms_max=&price_min=&price_max=&nr_of_people=&area_min=&area_max=&floor_min=&floor_max=&energy_certs=&keyword=\")"
   ]
  },
  {
   "cell_type": "code",
   "execution_count": 8,
   "metadata": {},
   "outputs": [
    {
     "data": {
      "application/vnd.jupyter.widget-view+json": {
       "model_id": "6bfe77571f344f6eb82f5263688a096a",
       "version_major": 2,
       "version_minor": 0
      },
      "text/plain": [
       "HBox(children=(IntProgress(value=0, max=77), HTML(value='')))"
      ]
     },
     "metadata": {},
     "output_type": "display_data"
    },
    {
     "name": "stdout",
     "output_type": "stream",
     "text": [
      "\n"
     ]
    }
   ],
   "source": [
    "for url in tqdm_notebook(urls):\n",
    "    r = requests.get(url)\n",
    "    soup = BeautifulSoup(r.content, \"html.parser\")\n",
    "    scrape_data(soup)\n",
    "    sleep(randint(1,3))"
   ]
  },
  {
   "cell_type": "code",
   "execution_count": 1,
   "metadata": {},
   "outputs": [],
   "source": [
    "def scrape_data(soup):\n",
    "\n",
    "    rows = soup.select('tbody tr.object-item')\n",
    "\n",
    "    materials = ['kivimaja', 'puitmaja', 'paneelmaja', 'palkmaja']\n",
    "    conditions = ['uus', 'heas korras', 'renoveeritud', 'san. remont tehtud', 'keskmises seisukorras', 'vajab san. remonti', 'vajab renoveerimist']\n",
    "    current_year = 2019\n",
    "\n",
    "    for row in rows:\n",
    "        d = {}\n",
    "\n",
    "        address = row.select_one('td.object-name h2 a').text.strip().split(', ')\n",
    "        description = row.select_one('td.object-name p.object-excerpt').text.strip().split(', ')\n",
    "        \n",
    "        d['street'] = address[-1]\n",
    "        d['district'] = address[2]\n",
    "        d['rooms'] = row.select_one('td.object-rooms').text\n",
    "        d['area'] = ''.join(filter(lambda x: x in '.0123456789', row.select_one('td.object-m2').text.strip()))\n",
    "        d['price'] = ''.join(filter(lambda x: x in '.0123456789', row.select_one('td.object-price p.object-price-value').text.strip()))\n",
    "        d['floor'] = ''.join(c for c in description[0].split('/')[0] if c.isdigit())\n",
    "        d['building_floors'] = '-'\n",
    "        d['type'] = '-'\n",
    "        d['material'] = '-'\n",
    "        d['condition'] = '-'\n",
    "        d['year_built'] = '-'\n",
    "\n",
    "        if len(description[0].split('/')) > 1:\n",
    "            d['building_floors'] = description[0].split('/')[1]\n",
    "            \n",
    "        for e in description:\n",
    "            if e in materials:\n",
    "                d['material'] = e\n",
    "            if e in conditions:\n",
    "                d['condition'] = e\n",
    "            if e.startswith('ehitusaasta'):\n",
    "                d['year_built'] = ''.join(c for c in e if c.isdigit())\n",
    "        data.append(d)"
   ]
  },
  {
   "cell_type": "code",
   "execution_count": 12,
   "metadata": {},
   "outputs": [],
   "source": [
    "file_name = 'kv_tallinn_' + datetime.datetime.now().strftime(\"%Y-%m-%d\") + '.csv'\n",
    "\n",
    "with open(file_name, 'w') as csv_file:\n",
    "    writer = csv.DictWriter(csv_file, data[0].keys())\n",
    "    writer.writeheader()\n",
    "    for e in data:\n",
    "        writer.writerow(e)"
   ]
  },
  {
   "cell_type": "code",
   "execution_count": null,
   "metadata": {},
   "outputs": [],
   "source": []
  }
 ],
 "metadata": {
  "kernelspec": {
   "display_name": "Python 3",
   "language": "python",
   "name": "python3"
  },
  "language_info": {
   "codemirror_mode": {
    "name": "ipython",
    "version": 3
   },
   "file_extension": ".py",
   "mimetype": "text/x-python",
   "name": "python",
   "nbconvert_exporter": "python",
   "pygments_lexer": "ipython3",
   "version": "3.7.4"
  }
 },
 "nbformat": 4,
 "nbformat_minor": 2
}
